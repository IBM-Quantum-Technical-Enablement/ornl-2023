{
 "cells": [
  {
   "cell_type": "markdown",
   "id": "a3727050",
   "metadata": {},
   "source": [
    "In this notebook, we will show how to combine all the four error suppression and mitigation methods, what is the flow for circuit transformations, and what is the sequence for data post-processing to get final mitigated results.\n",
    "\n",
    "We will utilize the same circuit transformation and data post-processing blocks as described in earlier notebooks."
   ]
  },
  {
   "cell_type": "markdown",
   "id": "86f4f325",
   "metadata": {},
   "source": [
    "# Imports"
   ]
  },
  {
   "cell_type": "code",
   "execution_count": 1,
   "id": "7d345b20",
   "metadata": {},
   "outputs": [],
   "source": [
    "# To make this notebook cleaner, we moved the ZNE and PT circuit transformation passes\n",
    "# to a separate script and imported those pass managers in this notebook\n",
    "from circuit_transformers import Local2qFolding, PauliTwirling\n",
    "\n",
    "import mthree\n",
    "\n",
    "import numpy as np\n",
    "from qiskit import *\n",
    "from qiskit.circuit import Parameter\n",
    "from qiskit.result import sampled_expectation_value\n",
    "from qiskit.quantum_info import SparsePauliOp\n",
    "from qiskit_aer import AerSimulator\n",
    "from qiskit.providers.fake_provider import FakeMumbai\n",
    "\n",
    "from qiskit.circuit.library import XGate, RZGate\n",
    "from qiskit.transpiler import PassManager, InstructionDurations\n",
    "from qiskit.transpiler.passes import ALAPScheduleAnalysis, PadDynamicalDecoupling\n",
    "from qiskit.transpiler.passes import Optimize1qGatesDecomposition\n",
    "\n",
    "\n",
    "from qiskit_ibm_provider import IBMProvider\n",
    "\n",
    "# Plotting tools\n",
    "import matplotlib.pyplot as plt\n",
    "import matplotlib_inline\n",
    "matplotlib_inline.backend_inline.set_matplotlib_formats('retina')"
   ]
  },
  {
   "cell_type": "markdown",
   "id": "307283cd",
   "metadata": {},
   "source": [
    "# Test Circuit"
   ]
  },
  {
   "cell_type": "markdown",
   "id": "3416ca38",
   "metadata": {},
   "source": [
    "As the example circuit, we will use the same wormhole teleportation circuit from Lawrence Berkeley National Laboratory (LBNL) (https://arxiv.org/abs/2205.14081) as shown on the dynamical decoupling notebook."
   ]
  },
  {
   "cell_type": "code",
   "execution_count": 2,
   "id": "3674d179",
   "metadata": {},
   "outputs": [],
   "source": [
    "g = Parameter('g')"
   ]
  },
  {
   "cell_type": "code",
   "execution_count": 3,
   "id": "43820707",
   "metadata": {},
   "outputs": [
    {
     "data": {
      "text/plain": [
       "<qiskit.circuit.instructionset.InstructionSet at 0x15a4efa90>"
      ]
     },
     "execution_count": 3,
     "metadata": {},
     "output_type": "execute_result"
    }
   ],
   "source": [
    "qc = QuantumCircuit(6, 1)\n",
    "qc.h(0)\n",
    "qc.cx(0, 5)\n",
    "qc.h(1)\n",
    "qc.cx(1, 4)\n",
    "qc.h(2)\n",
    "qc.cx(2, 3)\n",
    "qc.rx(-np.pi/2, 0)\n",
    "qc.rx(-np.pi/2, 1)\n",
    "qc.rx(-np.pi/2, 2)\n",
    "qc.rz(-0.0566794, 0)\n",
    "qc.rz(-0.01039906, 1)\n",
    "qc.rz(-0.0632158, 2)\n",
    "qc.rzz(-np.pi/2, 0, 1)\n",
    "qc.rzz(-np.pi/2, 1, 2)\n",
    "qc.rx(-np.pi/2, 0)\n",
    "qc.rx(-np.pi/2, 1)\n",
    "qc.rx(-np.pi/2, 2)\n",
    "qc.rz(-0.0566794, 0)\n",
    "qc.rz(-0.01039906, 1)\n",
    "qc.rz(-0.0632158, 2)\n",
    "qc.rzz(-np.pi/2, 0, 1)\n",
    "qc.rzz(-np.pi/2, 1, 2)\n",
    "qc.rx(-np.pi/2, 0)\n",
    "qc.rx(-np.pi/2, 1)\n",
    "qc.rx(-np.pi/2, 2)\n",
    "qc.rz(-0.0566794, 0)\n",
    "qc.rz(-0.01039906, 1)\n",
    "qc.rz(-0.0632158, 2)\n",
    "qc.rzz(-np.pi/2, 0, 1)\n",
    "qc.rzz(-np.pi/2, 1, 2)\n",
    "qc.reset(0)\n",
    "qc.rz(0.0566794, 0)\n",
    "qc.rz(0.01039906, 1)\n",
    "qc.rz(0.0632158, 2)\n",
    "qc.rzz(np.pi/2, 0, 1)\n",
    "qc.rzz(np.pi/2, 1, 2)\n",
    "qc.rx(np.pi/2, 0)\n",
    "qc.rx(np.pi/2, 1)\n",
    "qc.rx(np.pi/2, 2)\n",
    "qc.rz(0.0566794, 0)\n",
    "qc.rz(0.01039906, 1)\n",
    "qc.rz(0.0632158, 2)\n",
    "qc.rzz(np.pi/2, 0, 1)\n",
    "qc.rzz(np.pi/2, 1, 2)\n",
    "qc.rx(np.pi/2, 0)\n",
    "qc.rx(np.pi/2, 1)\n",
    "qc.rx(np.pi/2, 2)\n",
    "qc.rz(0.0566794, 0)\n",
    "qc.rz(0.01039906, 1)\n",
    "qc.rz(0.0632158, 2)\n",
    "qc.rzz(np.pi/2, 0, 1)\n",
    "qc.rzz(np.pi/2, 1, 2)\n",
    "qc.rx(np.pi/2, 0)\n",
    "qc.rx(np.pi/2, 1)\n",
    "qc.rx(np.pi/2, 2)\n",
    "# Here are the two RZZ gates that are parameterized\n",
    "qc.rzz(g, 1, 4)\n",
    "qc.rzz(g, 2, 3)\n",
    "# -------------------------------------------------\n",
    "qc.rx(np.pi/2, 5)\n",
    "qc.rx(np.pi/2, 4)\n",
    "qc.rx(np.pi/2, 3)\n",
    "qc.rz(0.0566794, 5)\n",
    "qc.rz(0.01039906, 4)\n",
    "qc.rz(0.0632158, 3)\n",
    "qc.rzz(np.pi/2, 5, 4)\n",
    "qc.rzz(np.pi/2, 4, 3)\n",
    "qc.rx(np.pi/2, 5)\n",
    "qc.rx(np.pi/2, 4)\n",
    "qc.rx(np.pi/2, 3)\n",
    "qc.rz(0.0566794, 5)\n",
    "qc.rz(0.01039906, 4)\n",
    "qc.rz(0.0632158, 3)\n",
    "qc.rzz(np.pi/2, 5, 4)\n",
    "qc.rzz(np.pi/2, 4, 3)\n",
    "qc.rx(np.pi/2, 5)\n",
    "qc.rx(np.pi/2, 4)\n",
    "qc.rx(np.pi/2, 3)\n",
    "qc.rz(0.0566794, 5)\n",
    "qc.rz(0.01039906, 4)\n",
    "qc.rz(0.0632158, 3)\n",
    "qc.rzz(np.pi/2, 5, 4)\n",
    "qc.rzz(np.pi/2, 4, 3)\n",
    "qc.measure(5, 0)"
   ]
  },
  {
   "cell_type": "code",
   "execution_count": 4,
   "id": "9da00013",
   "metadata": {},
   "outputs": [],
   "source": [
    "operator = SparsePauliOp(\"Z\")"
   ]
  },
  {
   "cell_type": "markdown",
   "id": "f12a1229",
   "metadata": {},
   "source": [
    "# Setting up Backend and Noisy Simulator"
   ]
  },
  {
   "cell_type": "code",
   "execution_count": 5,
   "id": "98c81ca8",
   "metadata": {},
   "outputs": [],
   "source": [
    "provider = IBMProvider()\n",
    "backend = provider.get_backend(\"ibm_peekskill\")\n",
    "simulator = AerSimulator.from_backend(backend)"
   ]
  },
  {
   "cell_type": "code",
   "execution_count": 6,
   "id": "0b61ebe9",
   "metadata": {},
   "outputs": [],
   "source": [
    "runner = simulator"
   ]
  },
  {
   "cell_type": "code",
   "execution_count": 7,
   "id": "3c0e7f96",
   "metadata": {},
   "outputs": [
    {
     "data": {
      "text/plain": [
       "{'break_loop',\n",
       " 'continue_loop',\n",
       " 'cx',\n",
       " 'delay',\n",
       " 'for_loop',\n",
       " 'id',\n",
       " 'if_else',\n",
       " 'kraus',\n",
       " 'qerror_loc',\n",
       " 'quantum_channel',\n",
       " 'roerror',\n",
       " 'rz',\n",
       " 'save_amplitudes',\n",
       " 'save_amplitudes_sq',\n",
       " 'save_clifford',\n",
       " 'save_density_matrix',\n",
       " 'save_expval',\n",
       " 'save_expval_var',\n",
       " 'save_matrix_product_state',\n",
       " 'save_probabilities',\n",
       " 'save_probabilities_dict',\n",
       " 'save_stabilizer',\n",
       " 'save_state',\n",
       " 'save_statevector',\n",
       " 'save_statevector_dict',\n",
       " 'save_superop',\n",
       " 'save_unitary',\n",
       " 'set_density_matrix',\n",
       " 'set_matrix_product_state',\n",
       " 'set_stabilizer',\n",
       " 'set_statevector',\n",
       " 'set_superop',\n",
       " 'set_unitary',\n",
       " 'superop',\n",
       " 'sx',\n",
       " 'while_loop',\n",
       " 'x'}"
      ]
     },
     "execution_count": 7,
     "metadata": {},
     "output_type": "execute_result"
    }
   ],
   "source": [
    "basis_gates = set(runner.configuration().basis_gates)\n",
    "basis_gates"
   ]
  },
  {
   "cell_type": "code",
   "execution_count": 8,
   "id": "25ab7f47",
   "metadata": {},
   "outputs": [
    {
     "name": "stdout",
     "output_type": "stream",
     "text": [
      "Two Q gate name: cx\n"
     ]
    }
   ],
   "source": [
    "two_q_gate_name = list(basis_gates.intersection({'cx', 'cz', 'ecr'}))[0]\n",
    "print(f\"Two Q gate name: {two_q_gate_name}\")"
   ]
  },
  {
   "cell_type": "markdown",
   "id": "88c5e0f4",
   "metadata": {},
   "source": [
    "# Circuit Transformations"
   ]
  },
  {
   "cell_type": "markdown",
   "id": "68d521d8",
   "metadata": {},
   "source": [
    "# 1st step: Transpilation"
   ]
  },
  {
   "cell_type": "markdown",
   "id": "70bbab69",
   "metadata": {},
   "source": [
    "We always start the circuit transformation with transpilation. Otherwise, the subsequent steps may miss out many gates that are introduced by gate decomposition and routing to make a circuit device compatible. For example, the input circuit may contain 3q+ gates. If it is fed to a ZNE circuit transformer that finds and folds only 2q gates, then gate folding process will miss out gates. Also, routing stage in transpilation may add many 2q gates. If ZNE transformation is done pre-transpilation, it will miss out on many extra 2q gates from routing."
   ]
  },
  {
   "cell_type": "code",
   "execution_count": 9,
   "id": "058eb4dc",
   "metadata": {},
   "outputs": [],
   "source": [
    "trans_qc = transpile(qc, backend=runner, optimization_level=3, seed_transpiler=0)"
   ]
  },
  {
   "cell_type": "code",
   "execution_count": 10,
   "id": "86c2d181",
   "metadata": {},
   "outputs": [],
   "source": [
    "g_vals = np.linspace(0, np.pi, 11)\n",
    "main_circuits = [trans_qc.assign_parameters([val]) for val in g_vals]"
   ]
  },
  {
   "cell_type": "markdown",
   "id": "5cd235f4",
   "metadata": {},
   "source": [
    "# 2nd step: Apply ZNE transformation"
   ]
  },
  {
   "cell_type": "code",
   "execution_count": 11,
   "id": "8a228956",
   "metadata": {},
   "outputs": [],
   "source": [
    "zne_circs = []\n",
    "scale_factors = [1.0, 1.5, 2.0]\n",
    "from qiskit.converters import circuit_to_dag\n",
    "for circ in main_circuits:\n",
    "    for factor in scale_factors:\n",
    "        pm = PassManager([Local2qFolding(scale_factor=factor, folding_gate=two_q_gate_name)])\n",
    "        zne_circs.append(pm.run(circ))"
   ]
  },
  {
   "cell_type": "code",
   "execution_count": 12,
   "id": "5ee57c6e",
   "metadata": {},
   "outputs": [
    {
     "data": {
      "text/plain": [
       "33"
      ]
     },
     "execution_count": 12,
     "metadata": {},
     "output_type": "execute_result"
    }
   ],
   "source": [
    "len(zne_circs)"
   ]
  },
  {
   "cell_type": "code",
   "execution_count": 13,
   "id": "5c778403",
   "metadata": {},
   "outputs": [
    {
     "name": "stdout",
     "output_type": "stream",
     "text": [
      "cx counts: orig=30 | 1.5x=44 | 2.0x=60\n"
     ]
    }
   ],
   "source": [
    "print(\n",
    "    f\"{two_q_gate_name} counts: orig={zne_circs[0].count_ops()[two_q_gate_name]} | \"\n",
    "    f\"{scale_factors[1]}x={zne_circs[1].count_ops()[two_q_gate_name]} | \"\n",
    "    f\"{scale_factors[2]}x={zne_circs[2].count_ops()[two_q_gate_name]}\"\n",
    ")"
   ]
  },
  {
   "cell_type": "markdown",
   "id": "cc43c6cf",
   "metadata": {},
   "source": [
    "# 3rd step: Apply PT transformation"
   ]
  },
  {
   "cell_type": "markdown",
   "id": "d8088880",
   "metadata": {},
   "source": [
    "PT transformation should be applied after ZNE transformation as ZNE transformation adds new 2q gates in the circuit due to gate folding for noise amplification purpose. If PT is done pre-ZNE, then it will miss out on twirling new 2q gates introduced by the ZNE stage."
   ]
  },
  {
   "cell_type": "code",
   "execution_count": 14,
   "id": "9396434a",
   "metadata": {},
   "outputs": [],
   "source": [
    "pt_circs = []\n",
    "num_twirls = 10\n",
    "pm = PassManager([PauliTwirling(two_q_gate_name, seed=54321), \n",
    "                       Optimize1qGatesDecomposition(backend.target.operation_names)])\n",
    "for circ in zne_circs:\n",
    "    for _ in range(num_twirls):\n",
    "        pt_circs.append(pm.run(circ))"
   ]
  },
  {
   "cell_type": "code",
   "execution_count": 15,
   "id": "a2357058",
   "metadata": {},
   "outputs": [
    {
     "data": {
      "text/plain": [
       "330"
      ]
     },
     "execution_count": 15,
     "metadata": {},
     "output_type": "execute_result"
    }
   ],
   "source": [
    "len(pt_circs) # 11 * 3 * 10"
   ]
  },
  {
   "cell_type": "markdown",
   "id": "71212722",
   "metadata": {},
   "source": [
    "# 4th step: Apply DD transformation"
   ]
  },
  {
   "cell_type": "markdown",
   "id": "6d3a97e4",
   "metadata": {},
   "source": [
    "DD transformation must be applied after PT. After the PT stage is done adding new gates, the circuit will have the most accurate timing information of idle times between gates such that the DD pass can work upon it."
   ]
  },
  {
   "cell_type": "code",
   "execution_count": 16,
   "id": "0cbe94ce",
   "metadata": {},
   "outputs": [],
   "source": [
    "# simulator and fake-backends typically do not contain the timing constraints\n",
    "# therefore, using real backend information to apply DD transformations\n",
    "durations = InstructionDurations.from_backend(backend)\n",
    "constraints = backend.configuration().timing_constraints\n",
    "dd_sequence = [XGate(), XGate(),]\n",
    "spacing = [1 / 4, 1 / 2, 1 / 4]\n",
    "pm = PassManager([ALAPScheduleAnalysis(durations),\n",
    "                  PadDynamicalDecoupling(durations, dd_sequence, spacing=spacing,\n",
    "                                         pulse_alignment=constraints['pulse_alignment'])])\n",
    "dd_circs = pm.run(pt_circs)"
   ]
  },
  {
   "cell_type": "markdown",
   "id": "29c51b75",
   "metadata": {},
   "source": [
    "# 5th step: Configure M3 measurement mitigator"
   ]
  },
  {
   "cell_type": "markdown",
   "id": "e4ca5300",
   "metadata": {},
   "source": [
    "M3mitigator can be configured after the transpilation stage. It only needs the final virtual-to-physical qubit mappings. After transpilation stage, these mappings are set, and the subsequent stages do not alter that mapping (at least with local 2q gate folding variant of ZNE). However, in this example, we configure the M3mitigator after all circuit transformations are done, and it is the most safest route as after all stages of circuit transformations are done, the final qubit mappings can not change."
   ]
  },
  {
   "cell_type": "code",
   "execution_count": 17,
   "id": "c861bfaa",
   "metadata": {},
   "outputs": [],
   "source": [
    "m3_mitigator = mthree.M3Mitigation(runner)\n",
    "final_maps = mthree.utils.final_measurement_mapping(dd_circs)"
   ]
  },
  {
   "cell_type": "markdown",
   "id": "1ef9fae2",
   "metadata": {},
   "source": [
    "# Executing Circuits"
   ]
  },
  {
   "cell_type": "markdown",
   "id": "8ede196f",
   "metadata": {},
   "source": [
    "## Run measurement calibration"
   ]
  },
  {
   "cell_type": "code",
   "execution_count": 18,
   "id": "fe0d67a8",
   "metadata": {},
   "outputs": [],
   "source": [
    "m3_mitigator.cals_from_system(final_maps)"
   ]
  },
  {
   "cell_type": "markdown",
   "id": "ad492bd3",
   "metadata": {},
   "source": [
    "## Run main circuits"
   ]
  },
  {
   "cell_type": "markdown",
   "id": "1a51c308",
   "metadata": {},
   "source": [
    "IBM backends have a max circuits length of 300 circuits. Thus, we split our circuits in batches of 300 circuits at max."
   ]
  },
  {
   "cell_type": "code",
   "execution_count": 19,
   "id": "e41961f2",
   "metadata": {},
   "outputs": [],
   "source": [
    "max_circuits = 300\n",
    "shots = 1500\n",
    "raw_counts = []\n",
    "\n",
    "for i in range(0, len(dd_circs), max_circuits):\n",
    "    batch = dd_circs[i:i+max_circuits]\n",
    "    counts = runner.run(batch, shots=shots).result().get_counts()\n",
    "    raw_counts.extend(counts)"
   ]
  },
  {
   "cell_type": "markdown",
   "id": "e620ae8b",
   "metadata": {},
   "source": [
    "## Result Post-processing"
   ]
  },
  {
   "cell_type": "markdown",
   "id": "b5b87b6f",
   "metadata": {},
   "source": [
    "For result post-processing, we follow the opposite order of circuit transformations."
   ]
  },
  {
   "cell_type": "markdown",
   "id": "81e8c015",
   "metadata": {},
   "source": [
    "### step 1: Apply measurement mitigation"
   ]
  },
  {
   "cell_type": "markdown",
   "id": "0657e76f",
   "metadata": {},
   "source": [
    "Applying measurement mitigation using M3, converts the raw counts to quasi probability distributions."
   ]
  },
  {
   "cell_type": "code",
   "execution_count": 20,
   "id": "9d8a0d36",
   "metadata": {},
   "outputs": [],
   "source": [
    "quasi_probs = m3_mitigator.apply_correction(raw_counts, final_maps)"
   ]
  },
  {
   "cell_type": "markdown",
   "id": "018504fa",
   "metadata": {},
   "source": [
    "### step 2: aggregate probabilities of twirls"
   ]
  },
  {
   "cell_type": "code",
   "execution_count": 21,
   "id": "7be4e1e4",
   "metadata": {},
   "outputs": [],
   "source": [
    "def aggregate_data(data, normalize=False):\n",
    "    aggregated = {}\n",
    "\n",
    "    total = len(data) if normalize else 1\n",
    "    \n",
    "    for dist in data:\n",
    "        for key in dist:\n",
    "            aggregated[key] = aggregated.get(key, 0) + (dist[key]/total)\n",
    "            \n",
    "    return aggregated"
   ]
  },
  {
   "cell_type": "markdown",
   "id": "ba11d78c",
   "metadata": {},
   "source": [
    "As after the application of measurement mitigation, the result is converted into quasi probability distributions, we aggregate the quasi probabilities across all the twirls using `normalize=True` as aggregated probability must be `1.0`."
   ]
  },
  {
   "cell_type": "code",
   "execution_count": 22,
   "id": "8d1e16ad",
   "metadata": {},
   "outputs": [],
   "source": [
    "aggregated_probs = []\n",
    "\n",
    "for i in range(0, len(quasi_probs), num_twirls):\n",
    "    probs_to_agg = quasi_probs[i:i+num_twirls]\n",
    "    aggregated_probs.append(aggregate_data(data=probs_to_agg, normalize=True))"
   ]
  },
  {
   "cell_type": "code",
   "execution_count": 23,
   "id": "73a74f08",
   "metadata": {},
   "outputs": [
    {
     "data": {
      "text/plain": [
       "33"
      ]
     },
     "execution_count": 23,
     "metadata": {},
     "output_type": "execute_result"
    }
   ],
   "source": [
    "len(aggregated_probs)"
   ]
  },
  {
   "cell_type": "markdown",
   "id": "93e08222",
   "metadata": {},
   "source": [
    "#### Convert to expectation values"
   ]
  },
  {
   "cell_type": "code",
   "execution_count": 24,
   "id": "618b1a8c",
   "metadata": {},
   "outputs": [],
   "source": [
    "expvals = [sampled_expectation_value(dist=dist, oper=operator) for dist in aggregated_probs]"
   ]
  },
  {
   "cell_type": "markdown",
   "id": "0bc2eff4",
   "metadata": {},
   "source": [
    "### step 3: apply extrapolation"
   ]
  },
  {
   "cell_type": "code",
   "execution_count": 25,
   "id": "d7da7171",
   "metadata": {},
   "outputs": [],
   "source": [
    "def extrapolate(xvals, yvals, deg=1):\n",
    "    return np.polyfit(x=xvals, y=yvals, deg=deg)[-1]"
   ]
  },
  {
   "cell_type": "code",
   "execution_count": 26,
   "id": "3d892819",
   "metadata": {},
   "outputs": [],
   "source": [
    "mitigated_expvals = []\n",
    "\n",
    "xvals = scale_factors\n",
    "num_scale_facs = len(xvals)\n",
    "for i in range(0, len(expvals), num_scale_facs):\n",
    "    yvals = expvals[i:i+num_scale_facs]\n",
    "    mitigated_expvals.append(extrapolate(xvals, yvals))"
   ]
  },
  {
   "cell_type": "code",
   "execution_count": 27,
   "id": "c50c5225",
   "metadata": {},
   "outputs": [
    {
     "data": {
      "text/plain": [
       "11"
      ]
     },
     "execution_count": 27,
     "metadata": {},
     "output_type": "execute_result"
    }
   ],
   "source": [
    "len(mitigated_expvals)"
   ]
  },
  {
   "cell_type": "markdown",
   "id": "0eff74db",
   "metadata": {},
   "source": [
    "## Ideal values for comparison"
   ]
  },
  {
   "cell_type": "code",
   "execution_count": 28,
   "id": "4d206e5b",
   "metadata": {},
   "outputs": [],
   "source": [
    "ideal_sim = AerSimulator()\n",
    "ideal_counts = ideal_sim.run(main_circuits, shots=num_twirls*300).result().get_counts()\n",
    "ideal_expvals = [sampled_expectation_value(dist=dist, oper=operator) for dist in ideal_counts]"
   ]
  },
  {
   "cell_type": "code",
   "execution_count": 29,
   "id": "142d75a3",
   "metadata": {},
   "outputs": [
    {
     "data": {
      "image/png": "[encoded data removed]",
      "text/plain": [
       "<Figure size 640x480 with 1 Axes>"
      ]
     },
     "metadata": {
      "image/png": {
       "height": 434,
       "width": 559
      }
     },
     "output_type": "display_data"
    }
   ],
   "source": [
    "fig, ax = plt.subplots()\n",
    "ax.plot(g_vals/(2*np.pi), ideal_expvals, 'o--', ms=10, lw=1, label='ideal')\n",
    "ax.plot(g_vals/(2*np.pi), mitigated_expvals, 'o--', ms=10, lw=1, label='mitigated (sim)')\n",
    "ax.legend()\n",
    "ax.set_xlabel('$g/2\\pi$');"
   ]
  },
  {
   "cell_type": "code",
   "execution_count": null,
   "id": "dbfdca99",
   "metadata": {},
   "outputs": [],
   "source": []
  }
 ],
 "metadata": {
  "kernelspec": {
   "display_name": "Python 3 (ipykernel)",
   "language": "python",
   "name": "python3"
  },
  "language_info": {
   "codemirror_mode": {
    "name": "ipython",
    "version": 3
   },
   "file_extension": ".py",
   "mimetype": "text/x-python",
   "name": "python",
   "nbconvert_exporter": "python",
   "pygments_lexer": "ipython3",
   "version": "3.10.12"
  }
 },
 "nbformat": 4,
 "nbformat_minor": 5
}
